{
 "cells": [
  {
   "cell_type": "code",
   "execution_count": 8,
   "metadata": {},
   "outputs": [
    {
     "name": "stdout",
     "output_type": "stream",
     "text": [
      "/Users/rakeshkantharaju/git_hub/deep_learning_project/Final-Project-Audio/audio/0/\n",
      "All videos downloaded!\n",
      "/Users/rakeshkantharaju/git_hub/deep_learning_project/Final-Project-Audio/audio/1/\n",
      "All videos downloaded!\n",
      "/Users/rakeshkantharaju/git_hub/deep_learning_project/Final-Project-Audio/audio/2/\n",
      "All videos downloaded!\n",
      "/Users/rakeshkantharaju/git_hub/deep_learning_project/Final-Project-Audio/audio/3/\n",
      "All videos downloaded!\n",
      "/Users/rakeshkantharaju/git_hub/deep_learning_project/Final-Project-Audio/audio/4/\n",
      "All videos downloaded!\n",
      "/Users/rakeshkantharaju/git_hub/deep_learning_project/Final-Project-Audio/audio/5/\n",
      "All videos downloaded!\n",
      "/Users/rakeshkantharaju/git_hub/deep_learning_project/Final-Project-Audio/audio/6/\n",
      "All videos downloaded!\n",
      "/Users/rakeshkantharaju/git_hub/deep_learning_project/Final-Project-Audio/audio/7/\n",
      "All videos downloaded!\n",
      "/Users/rakeshkantharaju/git_hub/deep_learning_project/Final-Project-Audio/audio/8/\n",
      "All videos downloaded!\n",
      "/Users/rakeshkantharaju/git_hub/deep_learning_project/Final-Project-Audio/audio/9/\n",
      "All videos downloaded!\n"
     ]
    }
   ],
   "source": [
    "#Web Scrape\n",
    "import librosa as librosa\n",
    "import numpy as np\n",
    "from matplotlib import pyplot as plt\n",
    "import os\n",
    "import requests\n",
    "from bs4 import BeautifulSoup\n",
    "def get_video_links(archive_url):\n",
    "\n",
    "\tr = requests.get(archive_url)\n",
    "\tsoup = BeautifulSoup(r.content,'html.parser')\n",
    "\tlinks = soup.findAll('a')\n",
    "\tvideo_links = [archive_url + link['href'] for link in links if link['href'].endswith('wav')]\n",
    "\treturn video_links\n",
    "\n",
    "\n",
    "def download_video_series(video_links, number):\n",
    "\n",
    "\tdirectory_path = f\"/Users/rakeshkantharaju/git_hub/deep_learning_project/Final-Project-Audio/audio/{number}/\"\n",
    "\tprint(directory_path)\n",
    "\n",
    "\tfor link in video_links:\n",
    "\t\tfile_name = f\"{directory_path}{link.split('/')[-1]}\"\n",
    "\n",
    "\t\tprint( \"Downloading file:%s\"%file_name)\n",
    "\t\tr = requests.get(link, stream = True)\n",
    "\t\twith open(file_name, 'wb') as f:\n",
    "\t\t\tfor chunk in r.iter_content(chunk_size = 1024*1024):\n",
    "\t\t\t\tif chunk:\n",
    "\t\t\t\t\tf.write(chunk)\n",
    "\n",
    "\t\tprint( \"%s downloaded!\\n\"%file_name )\n",
    "\n",
    "\tprint (\"All videos downloaded!\")\n",
    "\treturn\n",
    "for i in range(10):\n",
    "\tarchive_url = f\"https://clarksonmsda.org/ml/audio2/data/numbers/{i}/\"\n",
    "\n",
    "\tvideo_links = get_video_links(archive_url)\n",
    "\n",
    "\tdownload_video_series(video_links, i)"
   ]
  },
  {
   "cell_type": "code",
   "execution_count": 2,
   "metadata": {},
   "outputs": [
    {
     "name": "stderr",
     "output_type": "stream",
     "text": [
      "/var/folders/sz/vd3jtnkx0f7crslcw73k1nv40000gn/T/ipykernel_35581/2915352130.py:5: UserWarning: PySoundFile failed. Trying audioread instead.\n",
      "  y,sr=librosa.load('audio/0/american_f_Alexa_20230406110149.wav',sr=32000)\n",
      "/Users/rakeshkantharaju/Library/Python/3.9/lib/python/site-packages/librosa/core/audio.py:183: FutureWarning: librosa.core.audio.__audioread_load\n",
      "\tDeprecated as of librosa version 0.10.0.\n",
      "\tIt will be removed in librosa version 1.0.\n",
      "  y, sr_native = __audioread_load(path, offset, duration, dtype)\n"
     ]
    },
    {
     "ename": "FileNotFoundError",
     "evalue": "[Errno 2] No such file or directory: 'audio/0/american_f_Alexa_20230406110149.wav'",
     "output_type": "error",
     "traceback": [
      "\u001b[0;31m---------------------------------------------------------------------------\u001b[0m",
      "\u001b[0;31mLibsndfileError\u001b[0m                           Traceback (most recent call last)",
      "File \u001b[0;32m~/Library/Python/3.9/lib/python/site-packages/librosa/core/audio.py:175\u001b[0m, in \u001b[0;36mload\u001b[0;34m(path, sr, mono, offset, duration, dtype, res_type)\u001b[0m\n\u001b[1;32m    174\u001b[0m \u001b[39mtry\u001b[39;00m:\n\u001b[0;32m--> 175\u001b[0m     y, sr_native \u001b[39m=\u001b[39m __soundfile_load(path, offset, duration, dtype)\n\u001b[1;32m    177\u001b[0m \u001b[39mexcept\u001b[39;00m sf\u001b[39m.\u001b[39mSoundFileRuntimeError \u001b[39mas\u001b[39;00m exc:\n\u001b[1;32m    178\u001b[0m     \u001b[39m# If soundfile failed, try audioread instead\u001b[39;00m\n",
      "File \u001b[0;32m~/Library/Python/3.9/lib/python/site-packages/librosa/core/audio.py:208\u001b[0m, in \u001b[0;36m__soundfile_load\u001b[0;34m(path, offset, duration, dtype)\u001b[0m\n\u001b[1;32m    206\u001b[0m \u001b[39melse\u001b[39;00m:\n\u001b[1;32m    207\u001b[0m     \u001b[39m# Otherwise, create the soundfile object\u001b[39;00m\n\u001b[0;32m--> 208\u001b[0m     context \u001b[39m=\u001b[39m sf\u001b[39m.\u001b[39;49mSoundFile(path)\n\u001b[1;32m    210\u001b[0m \u001b[39mwith\u001b[39;00m context \u001b[39mas\u001b[39;00m sf_desc:\n",
      "File \u001b[0;32m~/Library/Python/3.9/lib/python/site-packages/soundfile.py:658\u001b[0m, in \u001b[0;36mSoundFile.__init__\u001b[0;34m(self, file, mode, samplerate, channels, subtype, endian, format, closefd)\u001b[0m\n\u001b[1;32m    656\u001b[0m \u001b[39mself\u001b[39m\u001b[39m.\u001b[39m_info \u001b[39m=\u001b[39m _create_info_struct(file, mode, samplerate, channels,\n\u001b[1;32m    657\u001b[0m                                  \u001b[39mformat\u001b[39m, subtype, endian)\n\u001b[0;32m--> 658\u001b[0m \u001b[39mself\u001b[39m\u001b[39m.\u001b[39m_file \u001b[39m=\u001b[39m \u001b[39mself\u001b[39;49m\u001b[39m.\u001b[39;49m_open(file, mode_int, closefd)\n\u001b[1;32m    659\u001b[0m \u001b[39mif\u001b[39;00m \u001b[39mset\u001b[39m(mode)\u001b[39m.\u001b[39missuperset(\u001b[39m'\u001b[39m\u001b[39mr+\u001b[39m\u001b[39m'\u001b[39m) \u001b[39mand\u001b[39;00m \u001b[39mself\u001b[39m\u001b[39m.\u001b[39mseekable():\n\u001b[1;32m    660\u001b[0m     \u001b[39m# Move write position to 0 (like in Python file objects)\u001b[39;00m\n",
      "File \u001b[0;32m~/Library/Python/3.9/lib/python/site-packages/soundfile.py:1216\u001b[0m, in \u001b[0;36mSoundFile._open\u001b[0;34m(self, file, mode_int, closefd)\u001b[0m\n\u001b[1;32m   1215\u001b[0m     err \u001b[39m=\u001b[39m _snd\u001b[39m.\u001b[39msf_error(file_ptr)\n\u001b[0;32m-> 1216\u001b[0m     \u001b[39mraise\u001b[39;00m LibsndfileError(err, prefix\u001b[39m=\u001b[39m\u001b[39m\"\u001b[39m\u001b[39mError opening \u001b[39m\u001b[39m{0!r}\u001b[39;00m\u001b[39m: \u001b[39m\u001b[39m\"\u001b[39m\u001b[39m.\u001b[39mformat(\u001b[39mself\u001b[39m\u001b[39m.\u001b[39mname))\n\u001b[1;32m   1217\u001b[0m \u001b[39mif\u001b[39;00m mode_int \u001b[39m==\u001b[39m _snd\u001b[39m.\u001b[39mSFM_WRITE:\n\u001b[1;32m   1218\u001b[0m     \u001b[39m# Due to a bug in libsndfile version <= 1.0.25, frames != 0\u001b[39;00m\n\u001b[1;32m   1219\u001b[0m     \u001b[39m# when opening a named pipe in SFM_WRITE mode.\u001b[39;00m\n\u001b[1;32m   1220\u001b[0m     \u001b[39m# See http://github.com/erikd/libsndfile/issues/77.\u001b[39;00m\n",
      "\u001b[0;31mLibsndfileError\u001b[0m: Error opening 'audio/0/american_f_Alexa_20230406110149.wav': System error.",
      "\nDuring handling of the above exception, another exception occurred:\n",
      "\u001b[0;31mFileNotFoundError\u001b[0m                         Traceback (most recent call last)",
      "Cell \u001b[0;32mIn[2], line 5\u001b[0m\n\u001b[1;32m      3\u001b[0m \u001b[39mimport\u001b[39;00m \u001b[39mos\u001b[39;00m\n\u001b[1;32m      4\u001b[0m path \u001b[39m=\u001b[39m \u001b[39m\"\u001b[39m\u001b[39maudio/4\u001b[39m\u001b[39m\"\u001b[39m\n\u001b[0;32m----> 5\u001b[0m y,sr\u001b[39m=\u001b[39mlibrosa\u001b[39m.\u001b[39;49mload(\u001b[39m'\u001b[39;49m\u001b[39maudio/0/american_f_Alexa_20230406110149.wav\u001b[39;49m\u001b[39m'\u001b[39;49m,sr\u001b[39m=\u001b[39;49m\u001b[39m32000\u001b[39;49m)\n\u001b[1;32m      6\u001b[0m librosa\u001b[39m.\u001b[39mdisplay\u001b[39m.\u001b[39mwaveshow(y,sr\u001b[39m=\u001b[39msr,color\u001b[39m=\u001b[39m\u001b[39m'\u001b[39m\u001b[39mblack\u001b[39m\u001b[39m'\u001b[39m)\n\u001b[1;32m      7\u001b[0m sr\n",
      "File \u001b[0;32m~/Library/Python/3.9/lib/python/site-packages/librosa/core/audio.py:183\u001b[0m, in \u001b[0;36mload\u001b[0;34m(path, sr, mono, offset, duration, dtype, res_type)\u001b[0m\n\u001b[1;32m    179\u001b[0m \u001b[39mif\u001b[39;00m \u001b[39misinstance\u001b[39m(path, (\u001b[39mstr\u001b[39m, pathlib\u001b[39m.\u001b[39mPurePath)):\n\u001b[1;32m    180\u001b[0m     warnings\u001b[39m.\u001b[39mwarn(\n\u001b[1;32m    181\u001b[0m         \u001b[39m\"\u001b[39m\u001b[39mPySoundFile failed. Trying audioread instead.\u001b[39m\u001b[39m\"\u001b[39m, stacklevel\u001b[39m=\u001b[39m\u001b[39m2\u001b[39m\n\u001b[1;32m    182\u001b[0m     )\n\u001b[0;32m--> 183\u001b[0m     y, sr_native \u001b[39m=\u001b[39m __audioread_load(path, offset, duration, dtype)\n\u001b[1;32m    184\u001b[0m \u001b[39melse\u001b[39;00m:\n\u001b[1;32m    185\u001b[0m     \u001b[39mraise\u001b[39;00m exc\n",
      "File \u001b[0;32m~/Library/Python/3.9/lib/python/site-packages/decorator.py:232\u001b[0m, in \u001b[0;36mdecorate.<locals>.fun\u001b[0;34m(*args, **kw)\u001b[0m\n\u001b[1;32m    230\u001b[0m \u001b[39mif\u001b[39;00m \u001b[39mnot\u001b[39;00m kwsyntax:\n\u001b[1;32m    231\u001b[0m     args, kw \u001b[39m=\u001b[39m fix(args, kw, sig)\n\u001b[0;32m--> 232\u001b[0m \u001b[39mreturn\u001b[39;00m caller(func, \u001b[39m*\u001b[39;49m(extras \u001b[39m+\u001b[39;49m args), \u001b[39m*\u001b[39;49m\u001b[39m*\u001b[39;49mkw)\n",
      "File \u001b[0;32m~/Library/Python/3.9/lib/python/site-packages/librosa/util/decorators.py:59\u001b[0m, in \u001b[0;36mdeprecated.<locals>.__wrapper\u001b[0;34m(func, *args, **kwargs)\u001b[0m\n\u001b[1;32m     50\u001b[0m \u001b[39m\u001b[39m\u001b[39m\"\"\"Warn the user, and then proceed.\"\"\"\u001b[39;00m\n\u001b[1;32m     51\u001b[0m warnings\u001b[39m.\u001b[39mwarn(\n\u001b[1;32m     52\u001b[0m     \u001b[39m\"\u001b[39m\u001b[39m{:s}\u001b[39;00m\u001b[39m.\u001b[39m\u001b[39m{:s}\u001b[39;00m\u001b[39m\\n\u001b[39;00m\u001b[39m\\t\u001b[39;00m\u001b[39mDeprecated as of librosa version \u001b[39m\u001b[39m{:s}\u001b[39;00m\u001b[39m.\u001b[39m\u001b[39m\"\u001b[39m\n\u001b[1;32m     53\u001b[0m     \u001b[39m\"\u001b[39m\u001b[39m\\n\u001b[39;00m\u001b[39m\\t\u001b[39;00m\u001b[39mIt will be removed in librosa version \u001b[39m\u001b[39m{:s}\u001b[39;00m\u001b[39m.\u001b[39m\u001b[39m\"\u001b[39m\u001b[39m.\u001b[39mformat(\n\u001b[0;32m   (...)\u001b[0m\n\u001b[1;32m     57\u001b[0m     stacklevel\u001b[39m=\u001b[39m\u001b[39m3\u001b[39m,  \u001b[39m# Would be 2, but the decorator adds a level\u001b[39;00m\n\u001b[1;32m     58\u001b[0m )\n\u001b[0;32m---> 59\u001b[0m \u001b[39mreturn\u001b[39;00m func(\u001b[39m*\u001b[39;49margs, \u001b[39m*\u001b[39;49m\u001b[39m*\u001b[39;49mkwargs)\n",
      "File \u001b[0;32m~/Library/Python/3.9/lib/python/site-packages/librosa/core/audio.py:239\u001b[0m, in \u001b[0;36m__audioread_load\u001b[0;34m(path, offset, duration, dtype)\u001b[0m\n\u001b[1;32m    236\u001b[0m     reader \u001b[39m=\u001b[39m path\n\u001b[1;32m    237\u001b[0m \u001b[39melse\u001b[39;00m:\n\u001b[1;32m    238\u001b[0m     \u001b[39m# If the input was not an audioread object, try to open it\u001b[39;00m\n\u001b[0;32m--> 239\u001b[0m     reader \u001b[39m=\u001b[39m audioread\u001b[39m.\u001b[39;49maudio_open(path)\n\u001b[1;32m    241\u001b[0m \u001b[39mwith\u001b[39;00m reader \u001b[39mas\u001b[39;00m input_file:\n\u001b[1;32m    242\u001b[0m     sr_native \u001b[39m=\u001b[39m input_file\u001b[39m.\u001b[39msamplerate\n",
      "File \u001b[0;32m~/Library/Python/3.9/lib/python/site-packages/audioread/__init__.py:127\u001b[0m, in \u001b[0;36maudio_open\u001b[0;34m(path, backends)\u001b[0m\n\u001b[1;32m    125\u001b[0m \u001b[39mfor\u001b[39;00m BackendClass \u001b[39min\u001b[39;00m backends:\n\u001b[1;32m    126\u001b[0m     \u001b[39mtry\u001b[39;00m:\n\u001b[0;32m--> 127\u001b[0m         \u001b[39mreturn\u001b[39;00m BackendClass(path)\n\u001b[1;32m    128\u001b[0m     \u001b[39mexcept\u001b[39;00m DecodeError:\n\u001b[1;32m    129\u001b[0m         \u001b[39mpass\u001b[39;00m\n",
      "File \u001b[0;32m~/Library/Python/3.9/lib/python/site-packages/audioread/rawread.py:59\u001b[0m, in \u001b[0;36mRawAudioFile.__init__\u001b[0;34m(self, filename)\u001b[0m\n\u001b[1;32m     58\u001b[0m \u001b[39mdef\u001b[39;00m \u001b[39m__init__\u001b[39m(\u001b[39mself\u001b[39m, filename):\n\u001b[0;32m---> 59\u001b[0m     \u001b[39mself\u001b[39m\u001b[39m.\u001b[39m_fh \u001b[39m=\u001b[39m \u001b[39mopen\u001b[39;49m(filename, \u001b[39m'\u001b[39;49m\u001b[39mrb\u001b[39;49m\u001b[39m'\u001b[39;49m)\n\u001b[1;32m     61\u001b[0m     \u001b[39mtry\u001b[39;00m:\n\u001b[1;32m     62\u001b[0m         \u001b[39mself\u001b[39m\u001b[39m.\u001b[39m_file \u001b[39m=\u001b[39m aifc\u001b[39m.\u001b[39mopen(\u001b[39mself\u001b[39m\u001b[39m.\u001b[39m_fh)\n",
      "\u001b[0;31mFileNotFoundError\u001b[0m: [Errno 2] No such file or directory: 'audio/0/american_f_Alexa_20230406110149.wav'"
     ]
    }
   ],
   "source": [
    "#WaveShow\n",
    "import librosa as librosa\n",
    "import os\n",
    "path = \"audio/4\"\n",
    "y,sr=librosa.load('audio/0/american_f_Alexa_20230406110149.wav',sr=32000)\n",
    "librosa.display.waveshow(y,sr=sr,color='black')\n",
    "sr"
   ]
  },
  {
   "cell_type": "code",
   "execution_count": null,
   "metadata": {},
   "outputs": [],
   "source": [
    "#Wave vs Spectrogram\n",
    "import librosa as librosa\n",
    "import numpy as np\n",
    "from matplotlib import pyplot as plt\n",
    "import os\n",
    "path = \"/Users/ksr/Machine Learning/Final Project Audio/audio/0\"\n",
    "dir_list = os.listdir(path)\n",
    "spectrograms = []\n",
    "waveforms = []\n",
    "for file in dir_list:\n",
    "    actual='audio/0/'+file\n",
    "    y, sr = librosa.load(actual)\n",
    "    waveforms.append(y)\n",
    "    spectrogram = librosa.stft(y)\n",
    "    spectrograms.append(spectrogram)\n",
    "for i, (waveform, spectrogram) in enumerate(zip(waveforms, spectrograms)):\n",
    "    plt.figure(figsize=(10, 8))\n",
    "    \n",
    "    # plot waveform\n",
    "    plt.subplot(211)\n",
    "    librosa.display.waveshow(waveform, sr=sr)\n",
    "    plt.title(f'Waveform for {dir_list[i]}')\n",
    "    \n",
    "    # plot spectrogram\n",
    "    plt.subplot(212)\n",
    "    librosa.display.specshow(librosa.amplitude_to_db(np.abs(spectrogram), ref=np.max),\n",
    "                                y_axis='linear', x_axis='time') \n",
    "    plt.title(f'Spectrogram for {dir_list[i]}')\n",
    "    plt.colorbar(format='%+2.0f dB')\n",
    "    \n",
    "    plt.tight_layout()\n",
    "    plt.show()\n"
   ]
  },
  {
   "cell_type": "code",
   "execution_count": null,
   "metadata": {},
   "outputs": [],
   "source": [
    "#Mel-Spectrogram\n",
    "import librosa as librosa\n",
    "import numpy as np\n",
    "from matplotlib import pyplot as plt\n",
    "import os\n",
    "path = \"/Users/ksr/Machine Learning/Final Project Audio/audio/0\"\n",
    "dir_list = os.listdir(path)\n",
    "spectrograms = []\n",
    "waveforms = []\n",
    "mel_spectrogram=[]\n",
    "for i,file in enumerate(dir_list):\n",
    "    actual='audio/0/'+file\n",
    "    y, sr = librosa.load(actual)\n",
    "    waveforms.append(y)\n",
    "    spectrogram = librosa.stft(y)\n",
    "    spectrograms.append(spectrogram)\n",
    "    S=librosa.feature.melspectrogram(y=y,sr=sr,n_mels=128,)\n",
    "    s_db_mel=librosa.amplitude_to_db(S, ref=np.max)\n",
    "    mel_spectrogram.append(s_db_mel)\n",
    "    plt.figure(figsize=(14,5))\n",
    "    img=librosa.display.specshow(s_db_mel,sr=sr,x_axis='s',y_axis='linear')\n",
    "    plt.title(f'Mel Spectrogram for {dir_list[i]}')\n",
    "    plt.colorbar()\n",
    "    print(s_db_mel.shape)"
   ]
  },
  {
   "cell_type": "code",
   "execution_count": 2,
   "metadata": {},
   "outputs": [
    {
     "data": {
      "image/png": "[encoded data removed]",
      "text/plain": [
       "<Figure size 432x288 with 1 Axes>"
      ]
     },
     "metadata": {
      "needs_background": "light"
     },
     "output_type": "display_data"
    },
    {
     "data": {
      "text/plain": [
       "197"
      ]
     },
     "execution_count": 2,
     "metadata": {},
     "output_type": "execute_result"
    }
   ],
   "source": [
    "# PCA and SVM\n",
    "\n",
    "import pickle\n",
    "import pandas as pd\n",
    "import numpy as np \n",
    "from matplotlib import pyplot as plt\n",
    "features=[]\n",
    "target=[]\n",
    "with open(\"data/mel_spectrograms.pickle\", \"rb\") as f:\n",
    "    data = pickle.load(f)\n",
    "    for j in range(0,len(data)):\n",
    "        for i in range(0,len(data[j])): \n",
    "            features.append(data[j][i].flatten())\n",
    "            target.append(j)\n",
    "features_df=pd.DataFrame(features)\n",
    "features_df.fillna(0,inplace=True)\n",
    "from sklearn.preprocessing import StandardScaler\n",
    "scaler=StandardScaler()\n",
    "scaled=scaler.fit_transform(features_df)\n",
    "from sklearn.decomposition import PCA\n",
    "pca = PCA(0.99)\n",
    "pca.fit(scaled)\n",
    "pca_data = pca.transform(scaled)\n",
    "per_var = np.round(pca.explained_variance_ratio_* 100,decimals=1)\n",
    "labels = ['PC' + str(x) for x in range(1, len(per_var) + 1)]\n",
    "\n",
    "plt.bar(x = range(1,len(per_var)+1),height=per_var,tick_label = labels)\n",
    "plt.ylabel('Percentage')\n",
    "plt.xlabel('Principal comp')\n",
    "plt.title('Scree plt')\n",
    "plt.show()\n",
    "pca.n_components_"
   ]
  },
  {
   "cell_type": "code",
   "execution_count": 3,
   "metadata": {},
   "outputs": [
    {
     "data": {
      "image/png": "[encoded data removed]",
      "text/plain": [
       "<Figure size 432x288 with 2 Axes>"
      ]
     },
     "metadata": {
      "needs_background": "light"
     },
     "output_type": "display_data"
    }
   ],
   "source": [
    "from sklearn.model_selection import train_test_split\n",
    "from sklearn.metrics import confusion_matrix\n",
    "import seaborn as sb\n",
    "X_train,X_test,y_train,y_test=train_test_split(scaled,target,test_size=0.2)\n",
    "from sklearn.svm import SVC \n",
    "model=SVC(C=500,kernel='rbf')\n",
    "model.fit(X_train,y_train)\n",
    "y_pred=model.predict(X_test)\n",
    "model.score(X_test,y_test)\n",
    "cm=confusion_matrix(y_test,y_pred)\n",
    "sb.heatmap(cm,annot=True)\n",
    "plt.xlabel('Predicted')\n",
    "plt.ylabel('Actual')\n",
    "plt.show()"
   ]
  }
 ],
 "metadata": {
  "kernelspec": {
   "display_name": "Python 3",
   "language": "python",
   "name": "python3"
  },
  "language_info": {
   "codemirror_mode": {
    "name": "ipython",
    "version": 3
   },
   "file_extension": ".py",
   "mimetype": "text/x-python",
   "name": "python",
   "nbconvert_exporter": "python",
   "pygments_lexer": "ipython3",
   "version": "3.9.6"
  },
  "orig_nbformat": 4
 },
 "nbformat": 4,
 "nbformat_minor": 2
}
